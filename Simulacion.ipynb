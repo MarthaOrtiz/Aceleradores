{
 "metadata": {
  "name": "Simulacion Ciclotron"
 },
 "nbformat": 3,
 "nbformat_minor": 0,
 "worksheets": [
  {
   "cells": [
    {
     "cell_type": "code",
     "collapsed": false,
     "input": [
      "%pylab inline\n",
      "import numpy as np\n",
      "import matplotlib as mpl\n",
      "import matplotlib.pyplot as plt"
     ],
     "language": "python",
     "metadata": {},
     "outputs": [
      {
       "output_type": "stream",
       "stream": "stdout",
       "text": [
        "\n",
        "Welcome to pylab, a matplotlib-based Python environment [backend: module://IPython.zmq.pylab.backend_inline].\n",
        "For more information, type 'help(pylab)'.\n"
       ]
      }
     ],
     "prompt_number": 1
    },
    {
     "cell_type": "heading",
     "level": 3,
     "metadata": {},
     "source": [
      "Se definen los parametros y condiciones con las que trabaja el ciclotron y las particulas a acelerar"
     ]
    },
    {
     "cell_type": "code",
     "collapsed": false,
     "input": [
      "m=1.7e-27\n",
      "q=1.6e-19\n",
      "B=1e-8\n",
      "dt=1e-1\n",
      "D=1\n",
      "Eo=2e-8"
     ],
     "language": "python",
     "metadata": {},
     "outputs": [],
     "prompt_number": 2
    },
    {
     "cell_type": "heading",
     "level": 3,
     "metadata": {},
     "source": [
      "Se definen las funciones respectivas a calcular punto a punto"
     ]
    },
    {
     "cell_type": "heading",
     "level": 4,
     "metadata": {},
     "source": [
      "$F_x= q \\sqrt{v_x^2+v_y^2} B \\frac{x}{\\sqrt{x^2+y^2}}= -q v_y B $\n",
      "\n"
     ]
    },
    {
     "cell_type": "heading",
     "level": 4,
     "metadata": {},
     "source": [
      "$F_y= q \\sqrt{v_x^2+v_y^2} B \\frac{y}{\\sqrt{x^2+y^2}}= q v_x B $\n",
      "\n"
     ]
    },
    {
     "cell_type": "heading",
     "level": 4,
     "metadata": {},
     "source": [
      "$A_x=\\frac{F_x}{m}$\n",
      "\n"
     ]
    },
    {
     "cell_type": "heading",
     "level": 4,
     "metadata": {},
     "source": [
      "$A_y=\\frac{F_y}{m}$"
     ]
    },
    {
     "cell_type": "code",
     "collapsed": false,
     "input": [
      "def posicion(x, y):\n",
      "    return sqrt(pow(x,2)+pow(y,2))\n",
      "\n",
      "def velocidad(vx, vy):\n",
      "    return sqrt(pow(vx,2)+pow(vy,2))\n",
      "\n",
      "def fuerza(vx, vy):\n",
      "    return q*sqrt((pow(vx,2)+pow(vy,2)))*B\n",
      "\n",
      "def fuerza_x(vy):\n",
      "    return -q*vy*B\n",
      "\n",
      "def fuerza_y(vx):\n",
      "    return q*vx*B\n",
      "\n",
      "def aceleracion(vx, vy):\n",
      "    return q*sqrt((pow(vx,2)+pow(vy,2)))*B/m\n",
      "    \n",
      "def aceleracion_x(vy):\n",
      "    return -q*vy*B/m\n",
      "\n",
      "def aceleracion_y(vx):\n",
      "    return q*vx*B/m"
     ],
     "language": "python",
     "metadata": {},
     "outputs": [],
     "prompt_number": 3
    },
    {
     "cell_type": "heading",
     "level": 3,
     "metadata": {},
     "source": [
      "Se definen condiciones iniciales para los protones"
     ]
    },
    {
     "cell_type": "code",
     "collapsed": false,
     "input": [
      "xo=1.0\n",
      "yo=0.0\n",
      "vxo=0.0\n",
      "vyo=1.0\n",
      "ro=sqrt(pow(xo,2)+pow(yo,2))\n",
      "vo=sqrt(pow(vxo,2)+pow(vyo,2))\n",
      "Fxo=q*vyo*B\n",
      "Fyo=-q*vxo*B\n",
      "Fo=sqrt(pow(Fxo,2)+pow(Fyo,2))\n",
      "axo=Fxo/m\n",
      "ayo=Fyo/m\n",
      "Ao=sqrt(pow(axo,2)+pow(ayo,2))\n",
      "print xo, yo\n",
      "print vxo, vyo\n",
      "print ro, vo\n",
      "print Fxo, Fyo"
     ],
     "language": "python",
     "metadata": {},
     "outputs": [
      {
       "output_type": "stream",
       "stream": "stdout",
       "text": [
        "1.0 0.0\n",
        "0.0 1.0\n",
        "1.0 1.0\n",
        "1.6e-27 -0.0\n"
       ]
      }
     ],
     "prompt_number": 4
    },
    {
     "cell_type": "heading",
     "level": 3,
     "metadata": {},
     "source": [
      "Se crean los paquetes correspondientes a cada funcion donde van a guardarse los datos punto a punto"
     ]
    },
    {
     "cell_type": "code",
     "collapsed": false,
     "input": [
      "n_points = 10000000\n",
      "x = zeros(n_points)\n",
      "y = zeros(n_points)\n",
      "x[0]=xo\n",
      "y[0]=yo\n",
      "vx = zeros(n_points)\n",
      "vy = zeros(n_points)\n",
      "vx[0]=vxo\n",
      "vy[0]=vyo\n",
      "Fx = zeros(n_points)\n",
      "Fy = zeros(n_points)\n",
      "Fx[0]=Fxo\n",
      "Ax = zeros(n_points)\n",
      "Ay = zeros(n_points)\n",
      "A = zeros(n_points)\n",
      "Ax[0]=Fxo/m\n",
      "Ay[0]=Fyo/m\n",
      "Energias=zeros(n_points)"
     ],
     "language": "python",
     "metadata": {},
     "outputs": [],
     "prompt_number": 5
    },
    {
     "cell_type": "heading",
     "level": 3,
     "metadata": {},
     "source": [
      "Se empieza con la evolucion del proton en el ciclotron una vez dentro de una D"
     ]
    },
    {
     "cell_type": "code",
     "collapsed": false,
     "input": [
      "numero=0\n",
      "for i in range (1, n_points):\n",
      "    \n",
      "    Fx[i] = -q*vy[i-1]*B\n",
      "    Fy[i] = q*vx[i-1]*B\n",
      "    \n",
      "    Ax[i] = Fx[i]/m\n",
      "    Ay[i] = Fy[i]/m\n",
      "    \n",
      "    vx[i] = vx[i-1] + Ax[i]*dt\n",
      "    vy[i] = vy[i-1] + Ay[i]*dt\n",
      "\n",
      "    x[i] = x[i-1] + vx[i]*dt\n",
      "    y[i] = y[i-1] + vy[i]*dt\n",
      "    if (y[i]<0):\n",
      "        numero=i\n",
      "        break"
     ],
     "language": "python",
     "metadata": {},
     "outputs": [],
     "prompt_number": 6
    },
    {
     "cell_type": "code",
     "collapsed": false,
     "input": [
      "x[numero]=x[numero-1]\n",
      "y[numero]=y[numero-1]\n",
      "figure()\n",
      "plot(x,y, 'k.')\n",
      "xlabel('Distancia horizontal(m)')\n",
      "ylabel('Distancia vertical(m)')\n",
      "show()"
     ],
     "language": "python",
     "metadata": {},
     "outputs": [
      {
       "output_type": "display_data",
       "png": "[encoded data removed]"
      }
     ],
     "prompt_number": 17
    },
    {
     "cell_type": "heading",
     "level": 3,
     "metadata": {},
     "source": [
      "Como se gundo paso, se procede con simular la trayectoria del proton entre las Ds"
     ]
    },
    {
     "cell_type": "code",
     "collapsed": false,
     "input": [
      "omega=q*B/m\n",
      "\n",
      "Ey=Eo*math.cos(omega*numero*dt)\n",
      "numero2=0\n",
      "for j in range(numero,n_points):\n",
      "    \n",
      "    Ay[j]=q*Ey/m\n",
      "    Ax[j]=0\n",
      "    \n",
      "    vx[j] = vx[j-1] + Ax[j]*dt\n",
      "    vy[j] = vy[j-1] + Ay[j]*dt\n",
      "\n",
      "    x[j] = x[j-1] \n",
      "    y[j] = y[j-1] + vy[j]*dt\n",
      "    if (y[j]<-D):\n",
      "        numero2=j\n",
      "        break"
     ],
     "language": "python",
     "metadata": {},
     "outputs": [],
     "prompt_number": 7
    },
    {
     "cell_type": "code",
     "collapsed": false,
     "input": [
      "x[numero2]=x[numero2-1]\n",
      "y[numero2]=y[numero2-1]\n",
      "figure()\n",
      "plot(x,y, 'k.')\n",
      "xlabel('Distancia horizontal(m)')\n",
      "ylabel('Distancia vertical(m)')\n",
      "show()"
     ],
     "language": "python",
     "metadata": {},
     "outputs": [
      {
       "output_type": "display_data",
       "png": "[encoded data removed]"
      }
     ],
     "prompt_number": 19
    },
    {
     "cell_type": "heading",
     "level": 3,
     "metadata": {},
     "source": [
      "Se mira si las particulas si se estan acelerando"
     ]
    },
    {
     "cell_type": "code",
     "collapsed": false,
     "input": [
      "print vy[0], vy[numero],vy[numero2]\n",
      "print vx[0], vx[numero],vx[numero2]\n",
      "print x[0], x[numero], x[numero2]\n",
      "print Ay[0], Ay[numero], Ay[numero2]"
     ],
     "language": "python",
     "metadata": {},
     "outputs": [
      {
       "output_type": "stream",
       "stream": "stdout",
       "text": [
        "1.0 -1.30227941735 -2.4221862592\n",
        "0.0 -0.264178407266 -0.264178407266\n",
        "1.0 -1.27427288508 -1.27427288508\n",
        "-0 -1.86651140309 -1.86651140309\n"
       ]
      }
     ],
     "prompt_number": 20
    },
    {
     "cell_type": "heading",
     "level": 3,
     "metadata": {},
     "source": [
      "De nuevo el proton pasa por una region de campo magnetico pero esta vez dentro de la otra D"
     ]
    },
    {
     "cell_type": "code",
     "collapsed": false,
     "input": [
      "numero3=0\n",
      "for i in range (numero2, n_points):\n",
      "    Fx[i] = -q*vy[i-1]*B\n",
      "    Fy[i] = q*vx[i-1]*B\n",
      "        \n",
      "    Ax[i] = Fx[i]/m\n",
      "    Ay[i] = Fy[i]/m\n",
      "    \n",
      "    vx[i] = vx[i-1] + Ax[i]*dt\n",
      "    vy[i] = vy[i-1] + Ay[i]*dt\n",
      "\n",
      "    x[i] = x[i-1] + vx[i]*dt\n",
      "    y[i] = y[i-1] + vy[i]*dt\n",
      "    \n",
      "\n",
      "    if (y[i]>-D):\n",
      "        numero3=i\n",
      "        break"
     ],
     "language": "python",
     "metadata": {},
     "outputs": [],
     "prompt_number": 8
    },
    {
     "cell_type": "code",
     "collapsed": false,
     "input": [
      "figure()\n",
      "plot(x,y, 'k.')\n",
      "xlabel('Distancia horizontal(m)')\n",
      "ylabel('Distancia vertical(m)')\n",
      "show()"
     ],
     "language": "python",
     "metadata": {},
     "outputs": [
      {
       "output_type": "display_data",
       "png": "[encoded data removed]"
      }
     ],
     "prompt_number": 22
    },
    {
     "cell_type": "heading",
     "level": 3,
     "metadata": {},
     "source": [
      "Estimamos de nuevo numericamente la evolucion de la particula "
     ]
    },
    {
     "cell_type": "code",
     "collapsed": false,
     "input": [
      "print vy[0], vy[numero],vy[numero2], vy[numero3]\n",
      "print vx[0], vx[numero],vx[numero2], vx[numero3]\n",
      "print x[0], x[numero], x[numero2], x[numero3]\n",
      "print Ay[0], Ay[numero], Ay[numero2], Ay[numero3]"
     ],
     "language": "python",
     "metadata": {},
     "outputs": [
      {
       "output_type": "stream",
       "stream": "stdout",
       "text": [
        "1.0 -1.30227941735 -2.26039896899 2.6090437478\n",
        "0.0 -0.264178407266 -0.0537751019586 0.179309511172\n",
        "1.0 -1.27427288508 -1.27965039528 3.91744095262\n",
        "-0 -1.86651140309 -0.248638500956 0.39636337969\n"
       ]
      }
     ],
     "prompt_number": 23
    },
    {
     "cell_type": "heading",
     "level": 3,
     "metadata": {},
     "source": [
      "La particula pasa de nuevo por una cavidad de radio frecuencia cuyo campo electrico (de la segunda a la primera D) se encuentra en direccion opuesta al primero(de la primera a la segunda D)"
     ]
    },
    {
     "cell_type": "code",
     "collapsed": false,
     "input": [
      "Ey=-Eo*math.cos(omega*numero*dt)\n",
      "numero4=0\n",
      "for j in range(numero3,n_points):\n",
      "    \n",
      "    Ay[j]=q*Ey/m\n",
      "    Ax[j]=0\n",
      "    \n",
      "    vx[j] = vx[j-1] + Ax[j]*dt\n",
      "    vy[j] = vy[j-1] + Ay[j]*dt\n",
      "\n",
      "    x[j] = x[j-1] \n",
      "    y[j] = y[j-1] + vy[j]*dt\n",
      "    if (y[j]>0):\n",
      "        numero4=j\n",
      "        break"
     ],
     "language": "python",
     "metadata": {},
     "outputs": [],
     "prompt_number": 9
    },
    {
     "cell_type": "code",
     "collapsed": false,
     "input": [
      "figure()\n",
      "plot(x,y, 'k.')\n",
      "xlabel('Distancia horizontal(m)')\n",
      "ylabel('Distancia vertical(m)')\n",
      "show()"
     ],
     "language": "python",
     "metadata": {},
     "outputs": [
      {
       "output_type": "display_data",
       "png": "[encoded data removed]"
      }
     ],
     "prompt_number": 25
    },
    {
     "cell_type": "code",
     "collapsed": false,
     "input": [
      "print vy[0], vy[numero],vy[numero2], vy[numero3], vy[numero4]\n",
      "print vx[0], vx[numero],vx[numero2], vx[numero3], vx[numero4]\n",
      "print x[0], x[numero], x[numero2], x[numero3], x[numero4]\n",
      "print Ay[0], Ay[numero], Ay[numero2], Ay[numero3], Ay[numero4]"
     ],
     "language": "python",
     "metadata": {},
     "outputs": [
      {
       "output_type": "stream",
       "stream": "stdout",
       "text": [
        "1.0 -1.30227941735 -2.26039896899 2.75605855014 3.50266311137\n",
        "0.0 -0.264178407266 -0.0537751019586 0.421136090921 0.421136090921\n",
        "1.0 -1.27427288508 -1.27965039528 3.8995100015 3.8995100015\n",
        "-0 -1.86651140309 -0.248638500956 1.86651140309 1.86651140309\n"
       ]
      }
     ],
     "prompt_number": 26
    },
    {
     "cell_type": "heading",
     "level": 3,
     "metadata": {},
     "source": [
      "Una vez se ve que la particula esta evolucionando como es de esperarse, solo se repite el procedimiento "
     ]
    },
    {
     "cell_type": "code",
     "collapsed": false,
     "input": [
      "numero5=0\n",
      "for i in range (numero4, n_points):\n",
      "    Fx[i] = -q*vy[i-1]*B\n",
      "    Fy[i] = q*vx[i-1]*B\n",
      "        \n",
      "    Ax[i] = Fx[i]/m\n",
      "    Ay[i] = Fy[i]/m\n",
      "    \n",
      "    vx[i] = vx[i-1] + Ax[i]*dt\n",
      "    vy[i] = vy[i-1] + Ay[i]*dt\n",
      "\n",
      "    x[i] = x[i-1] + vx[i]*dt\n",
      "    y[i] = y[i-1] + vy[i]*dt\n",
      "    \n",
      "\n",
      "    if (y[i]<0):\n",
      "        numero5=i\n",
      "        break\n",
      "        \n",
      "Ey=Eo*math.cos(omega*numero5*dt)\n",
      "numero6=0\n",
      "for j in range(numero5,n_points):\n",
      "    \n",
      "    Ay[j]=q*Ey/m\n",
      "    Ax[j]=0\n",
      "    \n",
      "    vx[j] = vx[j-1] + Ax[j]*dt\n",
      "    vy[j] = vy[j-1] + Ay[j]*dt\n",
      "\n",
      "    x[j] = x[j-1] \n",
      "    y[j] = y[j-1] + vy[j]*dt\n",
      "    if (y[j]<-D):\n",
      "        numero6=j\n",
      "        break\n",
      "    \n",
      "    \n",
      "numero7=0\n",
      "for i in range (numero6, n_points):\n",
      "    Fx[i] = -q*vy[i-1]*B\n",
      "    Fy[i] = q*vx[i-1]*B\n",
      "        \n",
      "    Ax[i] = Fx[i]/m\n",
      "    Ay[i] = Fy[i]/m\n",
      "    \n",
      "    vx[i] = vx[i-1] + Ax[i]*dt\n",
      "    vy[i] = vy[i-1] + Ay[i]*dt\n",
      "\n",
      "    x[i] = x[i-1] + vx[i]*dt\n",
      "    y[i] = y[i-1] + vy[i]*dt\n",
      "    \n",
      "\n",
      "    if (y[i]>-D):\n",
      "        numero7=i\n",
      "        break\n",
      "        \n",
      "        \n",
      "Ey=-Eo*math.cos(omega*numero7*dt)\n",
      "numero8=0\n",
      "for j in range(numero7,n_points):\n",
      "    \n",
      "    Ay[j]=q*Ey/m\n",
      "    Ax[j]=0\n",
      "    \n",
      "    vx[j] = vx[j-1] + Ax[j]*dt\n",
      "    vy[j] = vy[j-1] + Ay[j]*dt\n",
      "\n",
      "    x[j] = x[j-1] \n",
      "    y[j] = y[j-1] + vy[j]*dt\n",
      "    if (y[j]>0):\n",
      "        numero8=j\n",
      "        break"
     ],
     "language": "python",
     "metadata": {},
     "outputs": [],
     "prompt_number": 10
    },
    {
     "cell_type": "code",
     "collapsed": false,
     "input": [
      "figure()\n",
      "plot(x,y, 'k.')\n",
      "xlabel('Distancia horizontal(m)')\n",
      "ylabel('Distancia vertical(m)')\n",
      "show()"
     ],
     "language": "python",
     "metadata": {},
     "outputs": [
      {
       "output_type": "display_data",
       "png": "[encoded data removed]"
      }
     ],
     "prompt_number": 28
    },
    {
     "cell_type": "code",
     "collapsed": false,
     "input": [
      "numero9=0\n",
      "for i in range (numero8, n_points):\n",
      "    Fx[i] = -q*vy[i-1]*B\n",
      "    Fy[i] = q*vx[i-1]*B\n",
      "        \n",
      "    Ax[i] = Fx[i]/m\n",
      "    Ay[i] = Fy[i]/m\n",
      "    \n",
      "    vx[i] = vx[i-1] + Ax[i]*dt\n",
      "    vy[i] = vy[i-1] + Ay[i]*dt\n",
      "\n",
      "    x[i] = x[i-1] + vx[i]*dt\n",
      "    y[i] = y[i-1] + vy[i]*dt\n",
      "    \n",
      "\n",
      "    if (y[i]<0):\n",
      "        numero9=i\n",
      "        break\n",
      "\n",
      "        \n",
      "numero10=0\n",
      "for j in range(numero9,n_points):\n",
      "    \n",
      "    Ay[j]=q*Ey/m\n",
      "    Ax[j]=0\n",
      "    \n",
      "    vx[j] = vx[j-1] + Ax[j]*dt\n",
      "    vy[j] = vy[j-1] + Ay[j]*dt\n",
      "\n",
      "    x[j] = x[j-1] \n",
      "    y[j] = y[j-1] + vy[j]*dt\n",
      "    if (y[j]<-D):\n",
      "        numero10=j\n",
      "        break\n",
      "        \n",
      "        \n",
      "numero11=0\n",
      "for i in range (numero10, n_points):\n",
      "    Fx[i] = -q*vy[i-1]*B\n",
      "    Fy[i] = q*vx[i-1]*B\n",
      "        \n",
      "    Ax[i] = Fx[i]/m\n",
      "    Ay[i] = Fy[i]/m\n",
      "    \n",
      "    vx[i] = vx[i-1] + Ax[i]*dt\n",
      "    vy[i] = vy[i-1] + Ay[i]*dt\n",
      "\n",
      "    x[i] = x[i-1] + vx[i]*dt\n",
      "    y[i] = y[i-1] + vy[i]*dt\n",
      "    \n",
      "\n",
      "    if (y[i]>-D):\n",
      "        numero11=i\n",
      "        break\n",
      "        \n",
      "        \n",
      "numero12=0\n",
      "for j in range(numero11,n_points):\n",
      "    \n",
      "    Ay[j]=q*Ey/m\n",
      "    Ax[j]=0\n",
      "    \n",
      "    vx[j] = vx[j-1] + Ax[j]*dt\n",
      "    vy[j] = vy[j-1] + Ay[j]*dt\n",
      "\n",
      "    x[j] = x[j-1] ##+ vx[j]*dt\n",
      "    y[j] = y[j-1] + vy[j]*dt\n",
      "    if (y[j]>0):\n",
      "        numero12=j\n",
      "        break\n",
      "        \n",
      "        \n",
      "numero13=0\n",
      "for i in range (numero12, n_points):\n",
      "    Fx[i] = -q*vy[i-1]*B\n",
      "    Fy[i] = q*vx[i-1]*B\n",
      "        \n",
      "    Ax[i] = Fx[i]/m\n",
      "    Ay[i] = Fy[i]/m\n",
      "    \n",
      "    vx[i] = vx[i-1] + Ax[i]*dt\n",
      "    vy[i] = vy[i-1] + Ay[i]*dt\n",
      "\n",
      "    x[i] = x[i-1] + vx[i]*dt\n",
      "    y[i] = y[i-1] + vy[i]*dt\n",
      "    \n",
      "\n",
      "    if (y[i]<0):\n",
      "        numero13=i\n",
      "        break\n",
      "        \n",
      "        \n",
      "numero14=0\n",
      "for j in range(numero13,n_points):\n",
      "    \n",
      "    Ay[j]=q*Ey/m\n",
      "    Ax[j]=0\n",
      "    \n",
      "    vx[j] = vx[j-1] + Ax[j]*dt\n",
      "    vy[j] = vy[j-1] + Ay[j]*dt\n",
      "\n",
      "    x[j] = x[j-1] ##+ vx[j]*dt\n",
      "    y[j] = y[j-1] + vy[j]*dt\n",
      "    if (y[j]<-D):\n",
      "        numero14=j\n",
      "        break\n",
      "    \n",
      "numero15=0\n",
      "for i in range (numero14, n_points):\n",
      "    Fx[i] = -q*vy[i-1]*B\n",
      "    Fy[i] = q*vx[i-1]*B\n",
      "        \n",
      "    Ax[i] = Fx[i]/m\n",
      "    Ay[i] = Fy[i]/m\n",
      "    \n",
      "    vx[i] = vx[i-1] + Ax[i]*dt\n",
      "    vy[i] = vy[i-1] + Ay[i]*dt\n",
      "\n",
      "    x[i] = x[i-1] + vx[i]*dt\n",
      "    y[i] = y[i-1] + vy[i]*dt\n",
      "    \n",
      "\n",
      "    if (y[i]>-D):\n",
      "        numero15=i\n",
      "        break\n",
      "        \n",
      "numero16=0\n",
      "for j in range(numero15,n_points):\n",
      "    \n",
      "    Ay[j]=q*Ey/m\n",
      "    Ax[j]=0\n",
      "    \n",
      "    vx[j] = vx[j-1] + Ax[j]*dt\n",
      "    vy[j] = vy[j-1] + Ay[j]*dt\n",
      "\n",
      "    x[j] = x[j-1] ##+ vx[j]*dt\n",
      "    y[j] = y[j-1] + vy[j]*dt\n",
      "    if (y[j]>0):\n",
      "        numero16=j\n",
      "        break\n",
      "    \n",
      "numero17=0\n",
      "for i in range (numero16, n_points):\n",
      "    Fx[i] = -q*vy[i-1]*B\n",
      "    Fy[i] = q*vx[i-1]*B\n",
      "        \n",
      "    Ax[i] = Fx[i]/m\n",
      "    Ay[i] = Fy[i]/m\n",
      "    \n",
      "    vx[i] = vx[i-1] + Ax[i]*dt\n",
      "    vy[i] = vy[i-1] + Ay[i]*dt\n",
      "\n",
      "    x[i] = x[i-1] + vx[i]*dt\n",
      "    y[i] = y[i-1] + vy[i]*dt\n",
      "    \n",
      "\n",
      "    if (y[i]<0):\n",
      "        numero17=i\n",
      "        break\n",
      "    "
     ],
     "language": "python",
     "metadata": {},
     "outputs": [],
     "prompt_number": 11
    },
    {
     "cell_type": "code",
     "collapsed": false,
     "input": [
      "figure()\n",
      "plot(x,y, 'k.')\n",
      "xlabel('Distancia horizontal(m)')\n",
      "ylabel('Distancia vertical(m)')\n",
      "show()"
     ],
     "language": "python",
     "metadata": {},
     "outputs": [
      {
       "output_type": "display_data",
       "png": "[encoded data removed]"
      }
     ],
     "prompt_number": 30
    },
    {
     "cell_type": "code",
     "collapsed": false,
     "input": [
      "figure()\n",
      "plot(x,vy, 'k.')\n",
      "xlabel('Distancia horizontal(m)')\n",
      "ylabel('Velocidad vertical(m/s)')\n",
      "show()"
     ],
     "language": "python",
     "metadata": {},
     "outputs": [
      {
       "output_type": "display_data",
       "png": "[encoded data removed]"
      }
     ],
     "prompt_number": 42
    },
    {
     "cell_type": "code",
     "collapsed": false,
     "input": [
      "Ey=zeros(n_points)\n",
      "for i in range(1, numero17):\n",
      "    if(y[i]<0 or y[i]>-D):\n",
      "        Ey[i]=0\n",
      "        if(y[i]>-D):\n",
      "            Ey[i]=-Eo*math.cos(omega*numero7*dt)\n",
      "            if(y[i]<0):\n",
      "                Ey[i]=Eo*math.cos(omega*numero7*dt)                     \n",
      "    "
     ],
     "language": "python",
     "metadata": {},
     "outputs": [],
     "prompt_number": 12
    },
    {
     "cell_type": "code",
     "collapsed": false,
     "input": [
      "figure()\n",
      "plot(r,Ey, 'ko')\n",
      "xlabel('Distancia radial(m)')\n",
      "ylabel('Campo Electrico(N/C)')\n",
      "show()"
     ],
     "language": "python",
     "metadata": {},
     "outputs": [
      {
       "output_type": "display_data",
       "png": "[encoded data removed]"
      }
     ],
     "prompt_number": 15
    },
    {
     "cell_type": "code",
     "collapsed": false,
     "input": [
      "r = zeros(n_points)\n",
      "for i in range(1, numero17):\n",
      "    if(y[i]>0 or y[i]<-D):\n",
      "        r[i]=sqrt(pow(x[i],2)+pow(y[i],2))\n",
      "        Energias[i]=0.5*m*sqrt(pow(vx[i],2)+pow(vy[i],2))"
     ],
     "language": "python",
     "metadata": {},
     "outputs": [],
     "prompt_number": 14
    },
    {
     "cell_type": "code",
     "collapsed": false,
     "input": [
      "figure()\n",
      "plot(r,Energias, 'k.')\n",
      "xlabel('Distancia radial(m)')\n",
      "ylabel('Energia neta(Jm)')\n",
      "show()"
     ],
     "language": "python",
     "metadata": {},
     "outputs": [
      {
       "output_type": "display_data",
       "png": "[encoded data removed]"
      }
     ],
     "prompt_number": 17
    },
    {
     "cell_type": "code",
     "collapsed": false,
     "input": [],
     "language": "python",
     "metadata": {},
     "outputs": []
    }
   ],
   "metadata": {}
  }
 ]
}